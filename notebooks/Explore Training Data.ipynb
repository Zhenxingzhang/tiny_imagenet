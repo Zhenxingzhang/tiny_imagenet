{
 "cells": [
  {
   "cell_type": "code",
   "execution_count": 8,
   "metadata": {},
   "outputs": [],
   "source": [
    "import matplotlib.pyplot as plt\n",
    "import tensorflow as tf\n",
    "import numpy as np\n",
    "%matplotlib inline\n",
    "\n",
    "train_tfrecord = \"/data/tiny_imangenet/tiny_imagenet_data/train.tfrecord\""
   ]
  },
  {
   "cell_type": "code",
   "execution_count": 9,
   "metadata": {},
   "outputs": [],
   "source": [
    "def read_from_record(filename, shapes, n=10):\n",
    "    records = []\n",
    "    # create iterator from TFRecord and read examples from it\n",
    "    count = 0\n",
    "    for i, serialized_example in enumerate(tf.python_io.tf_record_iterator(filename)):\n",
    "        example = tf.train.Example()\n",
    "        example.ParseFromString(serialized_example)  # deserialise\n",
    "\n",
    "        record = dict()\n",
    "        # traverse the Example format to get data\n",
    "        record[\"image\"] = np.array(example.features.feature['image'].int64_list.value).reshape(shapes['image'])\n",
    "        record[\"label\"] = example.features.feature['label'].int64_list.value[0]\n",
    "        record[\"filename\"] = example.features.feature['filename'].bytes_list.value[0]\n",
    "        records.append(record)\n",
    "        count += 1\n",
    "        if count >= n:\n",
    "            break\n",
    "    return records"
   ]
  },
  {
   "cell_type": "code",
   "execution_count": 14,
   "metadata": {},
   "outputs": [],
   "source": [
    "sample_count = 10\n",
    "labels = []\n",
    "samples = read_from_record(train_tfrecord, shapes={'label': 1, 'image': (64, 64, 3)}, n=sample_count)\n",
    "for i in range(sample_count):\n",
    "    labels.append(samples[i][\"label\"])\n",
    "#     image = samples[i][\"image\"]\n",
    "#     plt.imshow(image.astype(\"uint8\"))\n",
    "#     plt.show()"
   ]
  },
  {
   "cell_type": "code",
   "execution_count": 17,
   "metadata": {},
   "outputs": [
    {
     "data": {
      "text/plain": [
       "[('35', 1),\n",
       " ('140', 1),\n",
       " ('143', 2),\n",
       " ('131', 1),\n",
       " ('151', 1),\n",
       " ('120', 1),\n",
       " ('156', 1),\n",
       " ('30', 1),\n",
       " ('63', 1)]"
      ]
     },
     "execution_count": 17,
     "metadata": {},
     "output_type": "execute_result"
    }
   ],
   "source": [
    "[(str(item), labels.count(item)) for item in set(labels)]"
   ]
  },
  {
   "cell_type": "code",
   "execution_count": null,
   "metadata": {},
   "outputs": [],
   "source": []
  }
 ],
 "metadata": {
  "kernelspec": {
   "display_name": "Python 2",
   "language": "python",
   "name": "python2"
  },
  "language_info": {
   "codemirror_mode": {
    "name": "ipython",
    "version": 2
   },
   "file_extension": ".py",
   "mimetype": "text/x-python",
   "name": "python",
   "nbconvert_exporter": "python",
   "pygments_lexer": "ipython2",
   "version": "2.7.10"
  }
 },
 "nbformat": 4,
 "nbformat_minor": 2
}
